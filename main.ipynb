{
 "cells": [
  {
   "cell_type": "code",
   "execution_count": 2,
   "metadata": {},
   "outputs": [],
   "source": [
    "import pandas as pd\n",
    "import numpy as np\n",
    "import matplotlib.pyplot as plt\n",
    "from sklearn.preprocessing import Normalizer\n",
    "from sklearn.decomposition import PCA\n",
    "from sklearn.ensemble import RandomForestClassifier\n",
    "from sklearn.model_selection import StratifiedKFold, cross_validate, GridSearchCV, cross_val_score, train_test_split"
   ]
  },
  {
   "cell_type": "code",
   "execution_count": 3,
   "metadata": {},
   "outputs": [],
   "source": [
    "# 导入数据\n",
    "def load_data():\n",
    "    df_abbr = pd.read_csv('happiness_train_abbr.csv')\n",
    "    df_abbr_test = pd.read_csv('happiness_test_abbr.csv')\n",
    "    \n",
    "    return df_abbr, df_abbr_test\n",
    "\n",
    "# 异常值处理\n",
    "def handing(df):\n",
    "    df['work_status'].fillna(9.0, inplace=True)\n",
    "    \n",
    "    df['work_yr'][(df['work_exper']==1) & (df['work_yr'].isna())] = 2015 - df['birth'] - 18\n",
    "    df['work_yr'].fillna(0, inplace=True)\n",
    "    \n",
    "    exper_type = {2:1, 3:1, 4:2, 5:2, 6:2}\n",
    "    df['work_type'].fillna(df['work_exper'].map(exper_type), inplace=True)\n",
    "    df['work_type'].fillna(1, inplace=True)\n",
    "    \n",
    "    df['work_manage'].fillna(4, inplace=True)\n",
    "    \n",
    "    return df    \n",
    "    \n",
    "# 处理其他异常值，比如-8    \n",
    "def handing_single(df):\n",
    "    for c in df.columns:\n",
    "        if -8 in set(df[c]):\n",
    "            df[c][df[c]==-8] = df[c].median()        \n",
    "    return df\n",
    "\n",
    "\n",
    "def other_handing(df):\n",
    "    df['income'][df['income'] < 0] = df['income'].median()\n",
    "    df['family_income'][df['family_income'] < 0] = df['family_income'].median()\n",
    "    df['family_m'][df['family_m'] < 0] = df['family_m'].median()\n",
    "    df['house'][df['house'] < 0] = df['house'].median()\n",
    "    df['work_yr'][df['work_yr'] < 0] = df['work_yr'].median()\n",
    "\n",
    "    df['family_income'].fillna(df['family_income'].median(), inplace=True)\n",
    "    \n",
    "    return df\n",
    "\n",
    "def norm_decom(df):\n",
    "    train_y = df.pop('happiness')\n",
    "    train_X = df\n",
    "    train_X.pop('survey_time')\n",
    "    train_X.pop('id')\n",
    "    \n",
    "    norm = Normalizer()\n",
    "    train_X = norm.fit_transform(train_X)\n",
    "\n",
    "    pca = PCA(n_components='mle', svd_solver='full', random_state=0)\n",
    "    train_X = pca.fit_transform(train_X)\n",
    "    \n",
    "    return train_X, train_y\n",
    "\n",
    "def out_put(df):\n",
    "    df = handing(df)\n",
    "    df = handing_single(df)\n",
    "    df = other_handing(df)\n",
    "    train_X, train_y = norm_decom(df)\n",
    "    \n",
    "    return train_X, train_y"
   ]
  },
  {
   "cell_type": "code",
   "execution_count": null,
   "metadata": {},
   "outputs": [],
   "source": [
    "df_abbr, df_abbr_test = load_data()\n",
    "df_abbr = handing(df_abbr)\n",
    "df_abbr = handing_single(df_abbr)\n",
    "df_abbr = other_handing(df_abbr)\n",
    "df_abbr_test = handing(df_abbr_test)\n",
    "df_abbr_test = handing_single(df_abbr_test)\n",
    "df_abbr_test = other_handing(df_abbr_test)\n",
    "train_y = np.array(df_abbr.pop('happiness'))\n",
    "train_X = df_abbr\n",
    "train_X.pop('survey_time')\n",
    "train_X.pop('id')\n",
    "    \n",
    "norm = Normalizer()\n",
    "train_X = norm.fit_transform(train_X)\n",
    "\n",
    "#pca = PCA(n_components='mle', svd_solver='full', random_state=0)\n",
    "#train_X = pca.fit_transform(train_X)\n",
    "\n",
    "test_X = df_abbr_test\n",
    "test_X.pop('survey_time')\n",
    "test_X.pop('id')\n",
    "test_X = norm.fit_transform(test_X)\n",
    "\n",
    "#test_X = pca.fit_transform(test_X)"
   ]
  },
  {
   "cell_type": "code",
   "execution_count": 4,
   "metadata": {},
   "outputs": [
    {
     "data": {
      "text/plain": [
       "((8000, 39), (8000,), (2968, 39))"
      ]
     },
     "execution_count": 4,
     "metadata": {},
     "output_type": "execute_result"
    }
   ],
   "source": [
    "train_X.shape, train_y.shape, test_X.shape"
   ]
  },
  {
   "cell_type": "code",
   "execution_count": 83,
   "metadata": {},
   "outputs": [
    {
     "data": {
      "text/plain": [
       "(2968, 39)"
      ]
     },
     "execution_count": 83,
     "metadata": {},
     "output_type": "execute_result"
    }
   ],
   "source": [
    "test_X.shape"
   ]
  },
  {
   "cell_type": "code",
   "execution_count": null,
   "metadata": {},
   "outputs": [],
   "source": [
    "df_abbr, df_abbr_test = load_data()\n",
    "df_abbr = handing(df_abbr)\n",
    "df_abbr = handing_single(df_abbr)\n",
    "df_abbr = other_handing(df_abbr)\n",
    "df_abbr_test = handing(df_abbr_test)\n",
    "df_abbr_test = handing_single(df_abbr_test)\n",
    "df_abbr_test = other_handing(df_abbr_test)\n",
    "train_y = df_abbr.pop('happiness')\n",
    "train_X = df_abbr\n",
    "train_X.pop('survey_time')\n",
    "train_X.pop('id')\n",
    "test_X = df_abbr_test.pop('survey_time')\n",
    "test_X = df_abbr_test.pop('id')"
   ]
  },
  {
   "cell_type": "code",
   "execution_count": 2,
   "metadata": {},
   "outputs": [
    {
     "name": "stdout",
     "output_type": "stream",
     "text": [
      "happiness_index.xlsx           happiness_test_complete.csv\n",
      "happiness_submit.csv           happiness_train_abbr.csv\n",
      "happiness_survey_cgss2015.pdf  happiness_train_complete.csv\n",
      "happiness_test_abbr.csv        main.ipynb\n"
     ]
    }
   ],
   "source": [
    "ls"
   ]
  },
  {
   "cell_type": "code",
   "execution_count": 3,
   "metadata": {},
   "outputs": [],
   "source": [
    "df_index = pd.read_excel('happiness_index.xlsx')"
   ]
  },
  {
   "cell_type": "code",
   "execution_count": 1,
   "metadata": {},
   "outputs": [
    {
     "ename": "NameError",
     "evalue": "name 'pd' is not defined",
     "output_type": "error",
     "traceback": [
      "\u001b[1;31m---------------------------------------------------------------------------\u001b[0m",
      "\u001b[1;31mNameError\u001b[0m                                 Traceback (most recent call last)",
      "\u001b[1;32m<ipython-input-1-41159a848728>\u001b[0m in \u001b[0;36m<module>\u001b[1;34m\u001b[0m\n\u001b[1;32m----> 1\u001b[1;33m \u001b[0mdf_comp\u001b[0m \u001b[1;33m=\u001b[0m \u001b[0mpd\u001b[0m\u001b[1;33m.\u001b[0m\u001b[0mread_csv\u001b[0m\u001b[1;33m(\u001b[0m\u001b[1;34m'happiness_train_complete.csv'\u001b[0m\u001b[1;33m,\u001b[0m \u001b[0mengine\u001b[0m\u001b[1;33m=\u001b[0m\u001b[1;34m'python'\u001b[0m\u001b[1;33m)\u001b[0m\u001b[1;33m\u001b[0m\u001b[1;33m\u001b[0m\u001b[0m\n\u001b[0m",
      "\u001b[1;31mNameError\u001b[0m: name 'pd' is not defined"
     ]
    }
   ],
   "source": [
    "df_comp = pd.read_csv('happiness_train_complete.csv', engine='python')"
   ]
  },
  {
   "cell_type": "code",
   "execution_count": 198,
   "metadata": {},
   "outputs": [],
   "source": [
    "df_comp_test = pd.read_csv('happiness_test_complete.csv', engine='python')"
   ]
  },
  {
   "cell_type": "code",
   "execution_count": 4,
   "metadata": {},
   "outputs": [],
   "source": [
    "df_abbr = pd.read_csv('happiness_train_abbr.csv', engine='python')"
   ]
  },
  {
   "cell_type": "code",
   "execution_count": 5,
   "metadata": {},
   "outputs": [],
   "source": [
    "df_abbr_test = pd.read_csv('happiness_test_abbr.csv', engine='python')"
   ]
  },
  {
   "cell_type": "code",
   "execution_count": 103,
   "metadata": {},
   "outputs": [
    {
     "data": {
      "text/plain": [
       "((8000, 42), (2968, 41))"
      ]
     },
     "execution_count": 103,
     "metadata": {},
     "output_type": "execute_result"
    }
   ],
   "source": [
    "df_abbr.shape, df_abbr_test.shape"
   ]
  },
  {
   "cell_type": "code",
   "execution_count": 7,
   "metadata": {},
   "outputs": [
    {
     "data": {
      "text/html": [
       "<div>\n",
       "<style scoped>\n",
       "    .dataframe tbody tr th:only-of-type {\n",
       "        vertical-align: middle;\n",
       "    }\n",
       "\n",
       "    .dataframe tbody tr th {\n",
       "        vertical-align: top;\n",
       "    }\n",
       "\n",
       "    .dataframe thead th {\n",
       "        text-align: right;\n",
       "    }\n",
       "</style>\n",
       "<table border=\"1\" class=\"dataframe\">\n",
       "  <thead>\n",
       "    <tr style=\"text-align: right;\">\n",
       "      <th></th>\n",
       "      <th>变量名</th>\n",
       "      <th>原始问卷编号</th>\n",
       "      <th>问题</th>\n",
       "      <th>取值含义</th>\n",
       "      <th>精简版</th>\n",
       "    </tr>\n",
       "  </thead>\n",
       "  <tbody>\n",
       "    <tr>\n",
       "      <th>67</th>\n",
       "      <td>work_exper</td>\n",
       "      <td>a58</td>\n",
       "      <td>您的工作经历及状况</td>\n",
       "      <td>1 = 目前从事非农工作; 2 = 目前务农，曾经有过非农工作; 3 = 目前务农，没有过非...</td>\n",
       "      <td>Y</td>\n",
       "    </tr>\n",
       "    <tr>\n",
       "      <th>68</th>\n",
       "      <td>work_status</td>\n",
       "      <td>a59a</td>\n",
       "      <td>下列各种情形，哪一种更符合您目前工作的状况</td>\n",
       "      <td>1 = 自己是老板（或者是合伙人）; 2 = 个体工商户; 3 = 受雇于他人（有固定雇主）...</td>\n",
       "      <td>Y</td>\n",
       "    </tr>\n",
       "    <tr>\n",
       "      <th>69</th>\n",
       "      <td>work_yr</td>\n",
       "      <td>a59c</td>\n",
       "      <td>从您第一份非农工作到目前的工作，您一共工作了多少年</td>\n",
       "      <td>-</td>\n",
       "      <td>Y</td>\n",
       "    </tr>\n",
       "    <tr>\n",
       "      <th>70</th>\n",
       "      <td>work_type</td>\n",
       "      <td>a59e</td>\n",
       "      <td>您目前工作的性质</td>\n",
       "      <td>1 = 全职工作; 2 = 非全职工作;</td>\n",
       "      <td>Y</td>\n",
       "    </tr>\n",
       "    <tr>\n",
       "      <th>71</th>\n",
       "      <td>work_manage</td>\n",
       "      <td>a59f</td>\n",
       "      <td>您目前工作的管理活动情况</td>\n",
       "      <td>1 = 只管理别人，不受别人管理; 2 = 既管理别人，又受别人管理; 3 = 只受别人管理...</td>\n",
       "      <td>Y</td>\n",
       "    </tr>\n",
       "  </tbody>\n",
       "</table>\n",
       "</div>"
      ],
      "text/plain": [
       "            变量名 原始问卷编号                         问题  \\\n",
       "67   work_exper    a58                  您的工作经历及状况   \n",
       "68  work_status   a59a      下列各种情形，哪一种更符合您目前工作的状况   \n",
       "69      work_yr   a59c  从您第一份非农工作到目前的工作，您一共工作了多少年   \n",
       "70    work_type   a59e                   您目前工作的性质   \n",
       "71  work_manage   a59f               您目前工作的管理活动情况   \n",
       "\n",
       "                                                 取值含义 精简版  \n",
       "67  1 = 目前从事非农工作; 2 = 目前务农，曾经有过非农工作; 3 = 目前务农，没有过非...   Y  \n",
       "68  1 = 自己是老板（或者是合伙人）; 2 = 个体工商户; 3 = 受雇于他人（有固定雇主）...   Y  \n",
       "69                                                  -   Y  \n",
       "70                              1 = 全职工作; 2 = 非全职工作;    Y  \n",
       "71  1 = 只管理别人，不受别人管理; 2 = 既管理别人，又受别人管理; 3 = 只受别人管理...   Y  "
      ]
     },
     "execution_count": 7,
     "metadata": {},
     "output_type": "execute_result"
    }
   ],
   "source": [
    "df_index[df_index['变量名'].str.startswith('work')]"
   ]
  },
  {
   "cell_type": "markdown",
   "metadata": {},
   "source": [
    "## 查看数据空值"
   ]
  },
  {
   "cell_type": "code",
   "execution_count": 8,
   "metadata": {},
   "outputs": [
    {
     "data": {
      "text/plain": [
       "work_status    5049\n",
       "work_yr        5049\n",
       "work_type      5049\n",
       "work_manage    5049\n",
       "dtype: int64"
      ]
     },
     "execution_count": 8,
     "metadata": {},
     "output_type": "execute_result"
    }
   ],
   "source": [
    "df_abbr.isna().sum()[df_abbr.isna().sum()>1]"
   ]
  },
  {
   "cell_type": "code",
   "execution_count": 9,
   "metadata": {},
   "outputs": [
    {
     "data": {
      "text/plain": [
       "array(['1 = 目前从事非农工作; 2 = 目前务农，曾经有过非农工作; 3 = 目前务农，没有过非农工作; 4 = 目前没有工作，而且只务过农; 5 = 目前没有工作，曾经有过非农工作; 6 = 从未工作过; '],\n",
       "      dtype=object)"
      ]
     },
     "execution_count": 9,
     "metadata": {},
     "output_type": "execute_result"
    }
   ],
   "source": [
    "df_index['取值含义'][df_index['变量名']=='work_exper'].values"
   ]
  },
  {
   "cell_type": "code",
   "execution_count": 10,
   "metadata": {},
   "outputs": [
    {
     "data": {
      "text/plain": [
       "Int64Index([1, 5, 3, 4, 2, 6], dtype='int64')"
      ]
     },
     "execution_count": 10,
     "metadata": {},
     "output_type": "execute_result"
    }
   ],
   "source": [
    "df_abbr['work_exper'].value_counts(dropna=False).index"
   ]
  },
  {
   "cell_type": "markdown",
   "metadata": {},
   "source": [
    "### work_status 数据预处理"
   ]
  },
  {
   "cell_type": "code",
   "execution_count": 11,
   "metadata": {},
   "outputs": [
    {
     "data": {
      "text/plain": [
       "array(['1 = 自己是老板（或者是合伙人）; 2 = 个体工商户; 3 = 受雇于他人（有固定雇主）; 4 = 劳务工/劳务派遣人员; 5 = 零工、散工（无固定雇主的受雇者）; 6 = 在自己家的生意/企业中工作/帮忙，领工资; 7 = 在自己家的生意/企业中工作/帮忙，不领工资; 8 = 自由职业者; 9 = 其他; '],\n",
       "      dtype=object)"
      ]
     },
     "execution_count": 11,
     "metadata": {},
     "output_type": "execute_result"
    }
   ],
   "source": [
    "df_index['取值含义'][df_index['变量名']=='work_status'].values"
   ]
  },
  {
   "cell_type": "code",
   "execution_count": 12,
   "metadata": {},
   "outputs": [
    {
     "data": {
      "text/plain": [
       "Float64Index([nan, 3.0, 2.0, 5.0, 1.0, 4.0, 8.0, 6.0, 9.0, -8.0, 7.0], dtype='float64')"
      ]
     },
     "execution_count": 12,
     "metadata": {},
     "output_type": "execute_result"
    }
   ],
   "source": [
    "df_abbr['work_status'].value_counts(dropna=False).index"
   ]
  },
  {
   "cell_type": "code",
   "execution_count": 13,
   "metadata": {},
   "outputs": [
    {
     "data": {
      "text/plain": [
       "array(['1 = 目前从事非农工作; 2 = 目前务农，曾经有过非农工作; 3 = 目前务农，没有过非农工作; 4 = 目前没有工作，而且只务过农; 5 = 目前没有工作，曾经有过非农工作; 6 = 从未工作过; '],\n",
       "      dtype=object)"
      ]
     },
     "execution_count": 13,
     "metadata": {},
     "output_type": "execute_result"
    }
   ],
   "source": [
    "df_index['取值含义'][df_index['变量名']=='work_exper'].values"
   ]
  },
  {
   "cell_type": "code",
   "execution_count": 14,
   "metadata": {},
   "outputs": [
    {
     "data": {
      "text/plain": [
       "(1, 3.0)     1767\n",
       "(1, 2.0)      471\n",
       "(1, 5.0)      285\n",
       "(1, 1.0)      136\n",
       "(1, 4.0)       88\n",
       "(1, 8.0)       83\n",
       "(1, 6.0)       45\n",
       "(1, 9.0)       32\n",
       "(1, -8.0)      25\n",
       "(1, 7.0)       19\n",
       "(5, nan)        1\n",
       "(4, nan)        1\n",
       "(5, nan)        1\n",
       "(4, nan)        1\n",
       "(5, nan)        1\n",
       "dtype: int64"
      ]
     },
     "execution_count": 14,
     "metadata": {},
     "output_type": "execute_result"
    }
   ],
   "source": [
    "# work_exper 工作经历及状况 与 work_status映射关系\n",
    "pd.Series(zip(df_abbr['work_exper'], df_abbr['work_status'])).value_counts(dropna=False).head(15)"
   ]
  },
  {
   "cell_type": "code",
   "execution_count": 15,
   "metadata": {},
   "outputs": [],
   "source": [
    "exper_status = {2:9.0, 3:9.0, 4:9.0, 5:9.0, 6:9.0}"
   ]
  },
  {
   "cell_type": "code",
   "execution_count": 16,
   "metadata": {},
   "outputs": [],
   "source": [
    "df_abbr['work_status'].fillna(9.0, inplace=True)"
   ]
  },
  {
   "cell_type": "markdown",
   "metadata": {},
   "source": [
    "### work_yr 数据预处理"
   ]
  },
  {
   "cell_type": "code",
   "execution_count": 17,
   "metadata": {},
   "outputs": [
    {
     "data": {
      "text/plain": [
       "array(['-'], dtype=object)"
      ]
     },
     "execution_count": 17,
     "metadata": {},
     "output_type": "execute_result"
    }
   ],
   "source": [
    "df_index['取值含义'][df_index['变量名']=='work_yr'].values"
   ]
  },
  {
   "cell_type": "code",
   "execution_count": 18,
   "metadata": {},
   "outputs": [
    {
     "data": {
      "text/plain": [
       "Float64Index([ nan, 20.0, 10.0,  1.0,  5.0, 15.0, 30.0,  3.0,  4.0, 25.0,  2.0,\n",
       "               8.0,  6.0,  7.0, -2.0, 12.0, -1.0, 13.0, 11.0, 16.0,  9.0, 18.0,\n",
       "              23.0, 14.0, 27.0, 35.0, 40.0, 26.0, 22.0, 28.0, 24.0, 21.0, 19.0,\n",
       "              33.0, 31.0, 32.0, 17.0, 34.0, 29.0, 36.0, 37.0, 38.0, -3.0, 42.0,\n",
       "              43.0, 39.0, 50.0, 45.0,  0.0, 46.0, 41.0, 52.0, 44.0, 47.0, 48.0,\n",
       "              55.0, 49.0],\n",
       "             dtype='float64')"
      ]
     },
     "execution_count": 18,
     "metadata": {},
     "output_type": "execute_result"
    }
   ],
   "source": [
    "df_abbr['work_yr'].value_counts(dropna=False).index"
   ]
  },
  {
   "cell_type": "code",
   "execution_count": 19,
   "metadata": {},
   "outputs": [
    {
     "data": {
      "text/plain": [
       "5    1968\n",
       "3    1242\n",
       "4    1065\n",
       "2     387\n",
       "6     380\n",
       "1       7\n",
       "Name: work_exper, dtype: int64"
      ]
     },
     "execution_count": 19,
     "metadata": {},
     "output_type": "execute_result"
    }
   ],
   "source": [
    "df_abbr['work_exper'][df_abbr['work_yr'].isna()].value_counts()"
   ]
  },
  {
   "cell_type": "code",
   "execution_count": 20,
   "metadata": {},
   "outputs": [],
   "source": [
    "exper_yr = {1:\"2015-birth\", 2:0.0, 3:0.0, 4:0.0, 5:0.0, 6:0.0}"
   ]
  },
  {
   "cell_type": "code",
   "execution_count": 21,
   "metadata": {},
   "outputs": [
    {
     "data": {
      "text/plain": [
       "(5, nan)    1\n",
       "(5, nan)    1\n",
       "(3, nan)    1\n",
       "(3, nan)    1\n",
       "(6, nan)    1\n",
       "dtype: int64"
      ]
     },
     "execution_count": 21,
     "metadata": {},
     "output_type": "execute_result"
    }
   ],
   "source": [
    "# work_exper 工作经历及状况 与 work_yr映射关系\n",
    "pd.Series(zip(df_abbr['work_exper'], df_abbr['work_yr'])).value_counts(dropna=False).tail()"
   ]
  },
  {
   "cell_type": "code",
   "execution_count": 22,
   "metadata": {},
   "outputs": [
    {
     "name": "stderr",
     "output_type": "stream",
     "text": [
      "/home/dkj/anaconda3/lib/python3.7/site-packages/ipykernel_launcher.py:1: SettingWithCopyWarning: \n",
      "A value is trying to be set on a copy of a slice from a DataFrame\n",
      "\n",
      "See the caveats in the documentation: http://pandas.pydata.org/pandas-docs/stable/indexing.html#indexing-view-versus-copy\n",
      "  \"\"\"Entry point for launching an IPython kernel.\n"
     ]
    }
   ],
   "source": [
    "df_abbr['work_yr'][(df_abbr['work_exper']==1) & (df_abbr['work_yr'].isna())] = 2015 - df_abbr['birth'] - 18"
   ]
  },
  {
   "cell_type": "code",
   "execution_count": 23,
   "metadata": {},
   "outputs": [],
   "source": [
    "df_abbr['work_yr'].fillna(0, inplace=True)"
   ]
  },
  {
   "cell_type": "code",
   "execution_count": 24,
   "metadata": {},
   "outputs": [
    {
     "data": {
      "text/plain": [
       "Int64Index([32, 34, 29, 27, 42, 33, 28, 30, 40, 22, 44, 31, 43, 24, 45, 47, 48,\n",
       "            35, 39, 41, 25, 37, 46, 52,  7, 49, 23, 26, 19, 12, 15, 17, 50, 21,\n",
       "            20, 10, 11, 38,  9, 18,  8, 36, 51, 53, 16,  4,  5, 13,  6, 14, 55,\n",
       "             3, 57, 56, 54,  0,  2, 60, 59,  1, 58, 62, 61, 64, 63, 67, 65, 66,\n",
       "            69, 68, 70, 71, 72, 75, 73, 76, 74],\n",
       "           dtype='int64')"
      ]
     },
     "execution_count": 24,
     "metadata": {},
     "output_type": "execute_result"
    }
   ],
   "source": [
    "pd.Series(2015 - df_abbr['birth'] - 18).value_counts().index"
   ]
  },
  {
   "cell_type": "markdown",
   "metadata": {},
   "source": [
    "### work_type 数据预处理"
   ]
  },
  {
   "cell_type": "code",
   "execution_count": 25,
   "metadata": {},
   "outputs": [
    {
     "data": {
      "text/plain": [
       "array(['1 = 全职工作; 2 = 非全职工作; '], dtype=object)"
      ]
     },
     "execution_count": 25,
     "metadata": {},
     "output_type": "execute_result"
    }
   ],
   "source": [
    "df_index['取值含义'][df_index['变量名']=='work_type'].values"
   ]
  },
  {
   "cell_type": "code",
   "execution_count": 26,
   "metadata": {},
   "outputs": [
    {
     "data": {
      "text/plain": [
       "Float64Index([nan, 1.0, 2.0, -8.0], dtype='float64')"
      ]
     },
     "execution_count": 26,
     "metadata": {},
     "output_type": "execute_result"
    }
   ],
   "source": [
    "df_abbr['work_type'].value_counts(dropna=False).index"
   ]
  },
  {
   "cell_type": "code",
   "execution_count": 27,
   "metadata": {},
   "outputs": [
    {
     "data": {
      "text/plain": [
       "array(['1 = 目前从事非农工作; 2 = 目前务农，曾经有过非农工作; 3 = 目前务农，没有过非农工作; 4 = 目前没有工作，而且只务过农; 5 = 目前没有工作，曾经有过非农工作; 6 = 从未工作过; '],\n",
       "      dtype=object)"
      ]
     },
     "execution_count": 27,
     "metadata": {},
     "output_type": "execute_result"
    }
   ],
   "source": [
    "df_index['取值含义'][df_index['变量名']=='work_exper'].values"
   ]
  },
  {
   "cell_type": "code",
   "execution_count": 28,
   "metadata": {},
   "outputs": [
    {
     "data": {
      "text/plain": [
       "(1, 1.0)     2546\n",
       "(1, 2.0)      337\n",
       "(1, -8.0)      68\n",
       "(2, nan)        1\n",
       "(5, nan)        1\n",
       "(4, nan)        1\n",
       "(5, nan)        1\n",
       "(4, nan)        1\n",
       "(5, nan)        1\n",
       "(4, nan)        1\n",
       "(5, nan)        1\n",
       "(3, nan)        1\n",
       "(5, nan)        1\n",
       "(3, nan)        1\n",
       "(3, nan)        1\n",
       "dtype: int64"
      ]
     },
     "execution_count": 28,
     "metadata": {},
     "output_type": "execute_result"
    }
   ],
   "source": [
    "# work_exper 工作经历及状况 与 work_type映射关系\n",
    "pd.Series(zip(df_abbr['work_exper'], df_abbr['work_type'])).value_counts(dropna=False).head(15)"
   ]
  },
  {
   "cell_type": "code",
   "execution_count": 29,
   "metadata": {},
   "outputs": [],
   "source": [
    "exper_type = {2:1, 3:1, 4:2, 5:2, 6:2}\n",
    "\n",
    "df_abbr['work_type'].fillna(df_abbr['work_exper'].map(exper_type), inplace=True)\n",
    "\n",
    "df_abbr['work_type'].fillna(1, inplace=True)"
   ]
  },
  {
   "cell_type": "markdown",
   "metadata": {},
   "source": [
    "### work_manage 数据预处理"
   ]
  },
  {
   "cell_type": "code",
   "execution_count": 31,
   "metadata": {},
   "outputs": [
    {
     "data": {
      "text/plain": [
       "array(['1 = 只管理别人，不受别人管理; 2 = 既管理别人，又受别人管理; 3 = 只受别人管理，不管理别人; 4 = 既不管理别人，又不受别人管理; '],\n",
       "      dtype=object)"
      ]
     },
     "execution_count": 31,
     "metadata": {},
     "output_type": "execute_result"
    }
   ],
   "source": [
    "df_index['取值含义'][df_index['变量名']=='work_manage'].values"
   ]
  },
  {
   "cell_type": "code",
   "execution_count": 32,
   "metadata": {},
   "outputs": [
    {
     "data": {
      "text/plain": [
       "Float64Index([nan, 3.0, 4.0, 2.0, 1.0, -8.0], dtype='float64')"
      ]
     },
     "execution_count": 32,
     "metadata": {},
     "output_type": "execute_result"
    }
   ],
   "source": [
    "df_abbr['work_manage'].value_counts(dropna=False).index"
   ]
  },
  {
   "cell_type": "code",
   "execution_count": 33,
   "metadata": {},
   "outputs": [
    {
     "data": {
      "text/plain": [
       "array(['1 = 目前从事非农工作; 2 = 目前务农，曾经有过非农工作; 3 = 目前务农，没有过非农工作; 4 = 目前没有工作，而且只务过农; 5 = 目前没有工作，曾经有过非农工作; 6 = 从未工作过; '],\n",
       "      dtype=object)"
      ]
     },
     "execution_count": 33,
     "metadata": {},
     "output_type": "execute_result"
    }
   ],
   "source": [
    "df_index['取值含义'][df_index['变量名']=='work_exper'].values"
   ]
  },
  {
   "cell_type": "code",
   "execution_count": 34,
   "metadata": {},
   "outputs": [],
   "source": [
    "exper_manage = {2:4, 3:4, 4:4, 5:4, 6:4}"
   ]
  },
  {
   "cell_type": "code",
   "execution_count": 35,
   "metadata": {},
   "outputs": [
    {
     "data": {
      "text/plain": [
       "(1, 3.0)     1554\n",
       "(1, 4.0)      575\n",
       "(1, 2.0)      574\n",
       "(1, 1.0)      189\n",
       "(1, -8.0)      59\n",
       "(2, nan)        1\n",
       "(5, nan)        1\n",
       "(4, nan)        1\n",
       "(5, nan)        1\n",
       "(4, nan)        1\n",
       "(5, nan)        1\n",
       "(5, nan)        1\n",
       "(4, nan)        1\n",
       "(3, nan)        1\n",
       "(5, nan)        1\n",
       "dtype: int64"
      ]
     },
     "execution_count": 35,
     "metadata": {},
     "output_type": "execute_result"
    }
   ],
   "source": [
    "# work_exper 工作经历及状况 与 work_type映射关系\n",
    "pd.Series(zip(df_abbr['work_exper'], df_abbr['work_manage'])).value_counts(dropna=False).head(15)"
   ]
  },
  {
   "cell_type": "code",
   "execution_count": 36,
   "metadata": {},
   "outputs": [],
   "source": [
    "df_abbr['work_manage'].fillna(4, inplace=True)"
   ]
  },
  {
   "cell_type": "markdown",
   "metadata": {},
   "source": [
    "### happiness 数据预处理"
   ]
  },
  {
   "cell_type": "code",
   "execution_count": 37,
   "metadata": {},
   "outputs": [
    {
     "data": {
      "text/plain": [
       " 4    4818\n",
       " 5    1410\n",
       " 3    1159\n",
       " 2     497\n",
       " 1     104\n",
       "-8      12\n",
       "Name: happiness, dtype: int64"
      ]
     },
     "execution_count": 37,
     "metadata": {},
     "output_type": "execute_result"
    }
   ],
   "source": [
    "df_abbr['happiness'].value_counts(dropna=False)"
   ]
  },
  {
   "cell_type": "markdown",
   "metadata": {},
   "source": [
    "##### >>> 有12个为-8的异常值，暂用1填充"
   ]
  },
  {
   "cell_type": "code",
   "execution_count": 38,
   "metadata": {},
   "outputs": [
    {
     "name": "stderr",
     "output_type": "stream",
     "text": [
      "/home/dkj/anaconda3/lib/python3.7/site-packages/ipykernel_launcher.py:1: SettingWithCopyWarning: \n",
      "A value is trying to be set on a copy of a slice from a DataFrame\n",
      "\n",
      "See the caveats in the documentation: http://pandas.pydata.org/pandas-docs/stable/indexing.html#indexing-view-versus-copy\n",
      "  \"\"\"Entry point for launching an IPython kernel.\n"
     ]
    }
   ],
   "source": [
    "df_abbr['happiness'][df_abbr['happiness']==-8] = 1"
   ]
  },
  {
   "cell_type": "code",
   "execution_count": 39,
   "metadata": {},
   "outputs": [
    {
     "data": {
      "text/plain": [
       "(1, 4)    1849\n",
       "(5, 4)    1176\n",
       "(3, 4)     740\n",
       "(4, 4)     588\n",
       "(1, 5)     485\n",
       "(1, 3)     449\n",
       "(5, 5)     381\n",
       "(5, 3)     261\n",
       "(2, 4)     239\n",
       "(6, 4)     226\n",
       "(4, 5)     215\n",
       "(3, 3)     195\n",
       "(3, 5)     178\n",
       "(4, 3)     157\n",
       "(1, 2)     138\n",
       "dtype: int64"
      ]
     },
     "execution_count": 39,
     "metadata": {},
     "output_type": "execute_result"
    }
   ],
   "source": [
    "# work_exper 工作经历及状况 与 happiness映射关系\n",
    "pd.Series(zip(df_abbr['work_exper'], df_abbr['happiness'])).value_counts(dropna=False).head(15)"
   ]
  },
  {
   "cell_type": "code",
   "execution_count": 48,
   "metadata": {},
   "outputs": [
    {
     "data": {
      "text/html": [
       "<div>\n",
       "<style scoped>\n",
       "    .dataframe tbody tr th:only-of-type {\n",
       "        vertical-align: middle;\n",
       "    }\n",
       "\n",
       "    .dataframe tbody tr th {\n",
       "        vertical-align: top;\n",
       "    }\n",
       "\n",
       "    .dataframe thead th {\n",
       "        text-align: right;\n",
       "    }\n",
       "</style>\n",
       "<table border=\"1\" class=\"dataframe\">\n",
       "  <thead>\n",
       "    <tr style=\"text-align: right;\">\n",
       "      <th></th>\n",
       "      <th>count</th>\n",
       "      <th>mean</th>\n",
       "      <th>std</th>\n",
       "      <th>min</th>\n",
       "      <th>25%</th>\n",
       "      <th>50%</th>\n",
       "      <th>75%</th>\n",
       "      <th>max</th>\n",
       "    </tr>\n",
       "  </thead>\n",
       "  <tbody>\n",
       "    <tr>\n",
       "      <th>id</th>\n",
       "      <td>8000.0</td>\n",
       "      <td>4000.500000</td>\n",
       "      <td>2309.545410</td>\n",
       "      <td>1.0</td>\n",
       "      <td>2000.75</td>\n",
       "      <td>4000.5</td>\n",
       "      <td>6000.25</td>\n",
       "      <td>8000.0</td>\n",
       "    </tr>\n",
       "    <tr>\n",
       "      <th>happiness</th>\n",
       "      <td>8000.0</td>\n",
       "      <td>3.863625</td>\n",
       "      <td>0.825598</td>\n",
       "      <td>1.0</td>\n",
       "      <td>4.00</td>\n",
       "      <td>4.0</td>\n",
       "      <td>4.00</td>\n",
       "      <td>5.0</td>\n",
       "    </tr>\n",
       "    <tr>\n",
       "      <th>survey_type</th>\n",
       "      <td>8000.0</td>\n",
       "      <td>1.405500</td>\n",
       "      <td>0.491019</td>\n",
       "      <td>1.0</td>\n",
       "      <td>1.00</td>\n",
       "      <td>1.0</td>\n",
       "      <td>2.00</td>\n",
       "      <td>2.0</td>\n",
       "    </tr>\n",
       "    <tr>\n",
       "      <th>province</th>\n",
       "      <td>8000.0</td>\n",
       "      <td>15.155375</td>\n",
       "      <td>8.917100</td>\n",
       "      <td>1.0</td>\n",
       "      <td>7.00</td>\n",
       "      <td>15.0</td>\n",
       "      <td>22.00</td>\n",
       "      <td>31.0</td>\n",
       "    </tr>\n",
       "    <tr>\n",
       "      <th>city</th>\n",
       "      <td>8000.0</td>\n",
       "      <td>42.564750</td>\n",
       "      <td>27.187404</td>\n",
       "      <td>1.0</td>\n",
       "      <td>18.00</td>\n",
       "      <td>42.0</td>\n",
       "      <td>65.00</td>\n",
       "      <td>89.0</td>\n",
       "    </tr>\n",
       "    <tr>\n",
       "      <th>county</th>\n",
       "      <td>8000.0</td>\n",
       "      <td>70.619000</td>\n",
       "      <td>38.747503</td>\n",
       "      <td>1.0</td>\n",
       "      <td>37.00</td>\n",
       "      <td>73.0</td>\n",
       "      <td>104.00</td>\n",
       "      <td>134.0</td>\n",
       "    </tr>\n",
       "    <tr>\n",
       "      <th>gender</th>\n",
       "      <td>8000.0</td>\n",
       "      <td>1.530000</td>\n",
       "      <td>0.499130</td>\n",
       "      <td>1.0</td>\n",
       "      <td>1.00</td>\n",
       "      <td>2.0</td>\n",
       "      <td>2.00</td>\n",
       "      <td>2.0</td>\n",
       "    </tr>\n",
       "    <tr>\n",
       "      <th>birth</th>\n",
       "      <td>8000.0</td>\n",
       "      <td>1964.707625</td>\n",
       "      <td>16.842865</td>\n",
       "      <td>1921.0</td>\n",
       "      <td>1952.00</td>\n",
       "      <td>1965.0</td>\n",
       "      <td>1977.00</td>\n",
       "      <td>1997.0</td>\n",
       "    </tr>\n",
       "    <tr>\n",
       "      <th>nationality</th>\n",
       "      <td>8000.0</td>\n",
       "      <td>1.393750</td>\n",
       "      <td>1.462696</td>\n",
       "      <td>1.0</td>\n",
       "      <td>1.00</td>\n",
       "      <td>1.0</td>\n",
       "      <td>1.00</td>\n",
       "      <td>8.0</td>\n",
       "    </tr>\n",
       "    <tr>\n",
       "      <th>religion</th>\n",
       "      <td>8000.0</td>\n",
       "      <td>0.893750</td>\n",
       "      <td>0.308177</td>\n",
       "      <td>0.0</td>\n",
       "      <td>1.00</td>\n",
       "      <td>1.0</td>\n",
       "      <td>1.00</td>\n",
       "      <td>1.0</td>\n",
       "    </tr>\n",
       "    <tr>\n",
       "      <th>religion_freq</th>\n",
       "      <td>8000.0</td>\n",
       "      <td>1.444125</td>\n",
       "      <td>1.348000</td>\n",
       "      <td>1.0</td>\n",
       "      <td>1.00</td>\n",
       "      <td>1.0</td>\n",
       "      <td>1.00</td>\n",
       "      <td>9.0</td>\n",
       "    </tr>\n",
       "    <tr>\n",
       "      <th>edu</th>\n",
       "      <td>8000.0</td>\n",
       "      <td>4.894875</td>\n",
       "      <td>3.118299</td>\n",
       "      <td>1.0</td>\n",
       "      <td>3.00</td>\n",
       "      <td>4.0</td>\n",
       "      <td>6.00</td>\n",
       "      <td>14.0</td>\n",
       "    </tr>\n",
       "    <tr>\n",
       "      <th>income</th>\n",
       "      <td>8000.0</td>\n",
       "      <td>34134.324500</td>\n",
       "      <td>232892.209977</td>\n",
       "      <td>0.0</td>\n",
       "      <td>3600.00</td>\n",
       "      <td>15000.0</td>\n",
       "      <td>36000.00</td>\n",
       "      <td>9999990.0</td>\n",
       "    </tr>\n",
       "    <tr>\n",
       "      <th>political</th>\n",
       "      <td>8000.0</td>\n",
       "      <td>1.363875</td>\n",
       "      <td>0.925244</td>\n",
       "      <td>1.0</td>\n",
       "      <td>1.00</td>\n",
       "      <td>1.0</td>\n",
       "      <td>1.00</td>\n",
       "      <td>4.0</td>\n",
       "    </tr>\n",
       "    <tr>\n",
       "      <th>floor_area</th>\n",
       "      <td>8000.0</td>\n",
       "      <td>115.302954</td>\n",
       "      <td>87.275890</td>\n",
       "      <td>3.0</td>\n",
       "      <td>64.00</td>\n",
       "      <td>96.0</td>\n",
       "      <td>130.00</td>\n",
       "      <td>1300.0</td>\n",
       "    </tr>\n",
       "    <tr>\n",
       "      <th>height_cm</th>\n",
       "      <td>8000.0</td>\n",
       "      <td>163.989750</td>\n",
       "      <td>8.086567</td>\n",
       "      <td>114.0</td>\n",
       "      <td>158.00</td>\n",
       "      <td>164.0</td>\n",
       "      <td>170.00</td>\n",
       "      <td>191.0</td>\n",
       "    </tr>\n",
       "    <tr>\n",
       "      <th>weight_jin</th>\n",
       "      <td>8000.0</td>\n",
       "      <td>121.575625</td>\n",
       "      <td>23.189453</td>\n",
       "      <td>40.0</td>\n",
       "      <td>105.00</td>\n",
       "      <td>120.0</td>\n",
       "      <td>135.25</td>\n",
       "      <td>260.0</td>\n",
       "    </tr>\n",
       "    <tr>\n",
       "      <th>health</th>\n",
       "      <td>8000.0</td>\n",
       "      <td>3.606000</td>\n",
       "      <td>1.069886</td>\n",
       "      <td>1.0</td>\n",
       "      <td>3.00</td>\n",
       "      <td>4.0</td>\n",
       "      <td>4.00</td>\n",
       "      <td>5.0</td>\n",
       "    </tr>\n",
       "    <tr>\n",
       "      <th>health_problem</th>\n",
       "      <td>8000.0</td>\n",
       "      <td>3.850750</td>\n",
       "      <td>1.064244</td>\n",
       "      <td>1.0</td>\n",
       "      <td>3.00</td>\n",
       "      <td>4.0</td>\n",
       "      <td>5.00</td>\n",
       "      <td>5.0</td>\n",
       "    </tr>\n",
       "    <tr>\n",
       "      <th>depression</th>\n",
       "      <td>8000.0</td>\n",
       "      <td>3.843375</td>\n",
       "      <td>0.921792</td>\n",
       "      <td>1.0</td>\n",
       "      <td>3.00</td>\n",
       "      <td>4.0</td>\n",
       "      <td>5.00</td>\n",
       "      <td>5.0</td>\n",
       "    </tr>\n",
       "    <tr>\n",
       "      <th>hukou</th>\n",
       "      <td>8000.0</td>\n",
       "      <td>1.893750</td>\n",
       "      <td>1.348588</td>\n",
       "      <td>1.0</td>\n",
       "      <td>1.00</td>\n",
       "      <td>1.0</td>\n",
       "      <td>2.00</td>\n",
       "      <td>8.0</td>\n",
       "    </tr>\n",
       "    <tr>\n",
       "      <th>socialize</th>\n",
       "      <td>8000.0</td>\n",
       "      <td>2.798875</td>\n",
       "      <td>1.041902</td>\n",
       "      <td>1.0</td>\n",
       "      <td>2.00</td>\n",
       "      <td>3.0</td>\n",
       "      <td>4.00</td>\n",
       "      <td>5.0</td>\n",
       "    </tr>\n",
       "    <tr>\n",
       "      <th>relax</th>\n",
       "      <td>8000.0</td>\n",
       "      <td>3.314375</td>\n",
       "      <td>0.942287</td>\n",
       "      <td>1.0</td>\n",
       "      <td>3.00</td>\n",
       "      <td>3.0</td>\n",
       "      <td>4.00</td>\n",
       "      <td>5.0</td>\n",
       "    </tr>\n",
       "    <tr>\n",
       "      <th>learn</th>\n",
       "      <td>8000.0</td>\n",
       "      <td>1.952750</td>\n",
       "      <td>1.079311</td>\n",
       "      <td>1.0</td>\n",
       "      <td>1.00</td>\n",
       "      <td>2.0</td>\n",
       "      <td>3.00</td>\n",
       "      <td>5.0</td>\n",
       "    </tr>\n",
       "    <tr>\n",
       "      <th>equity</th>\n",
       "      <td>8000.0</td>\n",
       "      <td>3.192875</td>\n",
       "      <td>0.999149</td>\n",
       "      <td>1.0</td>\n",
       "      <td>2.00</td>\n",
       "      <td>3.0</td>\n",
       "      <td>4.00</td>\n",
       "      <td>5.0</td>\n",
       "    </tr>\n",
       "    <tr>\n",
       "      <th>class</th>\n",
       "      <td>8000.0</td>\n",
       "      <td>4.323875</td>\n",
       "      <td>1.626979</td>\n",
       "      <td>1.0</td>\n",
       "      <td>3.00</td>\n",
       "      <td>5.0</td>\n",
       "      <td>5.00</td>\n",
       "      <td>10.0</td>\n",
       "    </tr>\n",
       "    <tr>\n",
       "      <th>work_exper</th>\n",
       "      <td>8000.0</td>\n",
       "      <td>2.979750</td>\n",
       "      <td>1.752705</td>\n",
       "      <td>1.0</td>\n",
       "      <td>1.00</td>\n",
       "      <td>3.0</td>\n",
       "      <td>5.00</td>\n",
       "      <td>6.0</td>\n",
       "    </tr>\n",
       "    <tr>\n",
       "      <th>work_status</th>\n",
       "      <td>8000.0</td>\n",
       "      <td>6.897125</td>\n",
       "      <td>2.901524</td>\n",
       "      <td>1.0</td>\n",
       "      <td>3.00</td>\n",
       "      <td>9.0</td>\n",
       "      <td>9.00</td>\n",
       "      <td>9.0</td>\n",
       "    </tr>\n",
       "    <tr>\n",
       "      <th>work_yr</th>\n",
       "      <td>8000.0</td>\n",
       "      <td>5.407250</td>\n",
       "      <td>9.877390</td>\n",
       "      <td>0.0</td>\n",
       "      <td>0.00</td>\n",
       "      <td>0.0</td>\n",
       "      <td>7.00</td>\n",
       "      <td>55.0</td>\n",
       "    </tr>\n",
       "    <tr>\n",
       "      <th>work_type</th>\n",
       "      <td>7993.0</td>\n",
       "      <td>1.469161</td>\n",
       "      <td>0.499079</td>\n",
       "      <td>1.0</td>\n",
       "      <td>1.00</td>\n",
       "      <td>1.0</td>\n",
       "      <td>2.00</td>\n",
       "      <td>2.0</td>\n",
       "    </tr>\n",
       "    <tr>\n",
       "      <th>work_manage</th>\n",
       "      <td>8000.0</td>\n",
       "      <td>3.591375</td>\n",
       "      <td>0.725925</td>\n",
       "      <td>1.0</td>\n",
       "      <td>3.00</td>\n",
       "      <td>4.0</td>\n",
       "      <td>4.00</td>\n",
       "      <td>4.0</td>\n",
       "    </tr>\n",
       "    <tr>\n",
       "      <th>family_income</th>\n",
       "      <td>7999.0</td>\n",
       "      <td>70924.589074</td>\n",
       "      <td>290411.044732</td>\n",
       "      <td>0.0</td>\n",
       "      <td>20000.00</td>\n",
       "      <td>38000.0</td>\n",
       "      <td>70000.00</td>\n",
       "      <td>9999992.0</td>\n",
       "    </tr>\n",
       "    <tr>\n",
       "      <th>family_m</th>\n",
       "      <td>8000.0</td>\n",
       "      <td>2.896500</td>\n",
       "      <td>1.498439</td>\n",
       "      <td>1.0</td>\n",
       "      <td>2.00</td>\n",
       "      <td>3.0</td>\n",
       "      <td>4.00</td>\n",
       "      <td>50.0</td>\n",
       "    </tr>\n",
       "    <tr>\n",
       "      <th>family_status</th>\n",
       "      <td>8000.0</td>\n",
       "      <td>2.659125</td>\n",
       "      <td>0.715013</td>\n",
       "      <td>1.0</td>\n",
       "      <td>2.00</td>\n",
       "      <td>3.0</td>\n",
       "      <td>3.00</td>\n",
       "      <td>5.0</td>\n",
       "    </tr>\n",
       "    <tr>\n",
       "      <th>house</th>\n",
       "      <td>8000.0</td>\n",
       "      <td>1.110625</td>\n",
       "      <td>0.673197</td>\n",
       "      <td>0.0</td>\n",
       "      <td>1.00</td>\n",
       "      <td>1.0</td>\n",
       "      <td>1.00</td>\n",
       "      <td>30.0</td>\n",
       "    </tr>\n",
       "    <tr>\n",
       "      <th>car</th>\n",
       "      <td>8000.0</td>\n",
       "      <td>1.829625</td>\n",
       "      <td>0.375985</td>\n",
       "      <td>1.0</td>\n",
       "      <td>2.00</td>\n",
       "      <td>2.0</td>\n",
       "      <td>2.00</td>\n",
       "      <td>2.0</td>\n",
       "    </tr>\n",
       "    <tr>\n",
       "      <th>marital</th>\n",
       "      <td>8000.0</td>\n",
       "      <td>3.234375</td>\n",
       "      <td>1.423182</td>\n",
       "      <td>1.0</td>\n",
       "      <td>3.00</td>\n",
       "      <td>3.0</td>\n",
       "      <td>3.00</td>\n",
       "      <td>7.0</td>\n",
       "    </tr>\n",
       "    <tr>\n",
       "      <th>status_peer</th>\n",
       "      <td>8000.0</td>\n",
       "      <td>2.287375</td>\n",
       "      <td>0.547566</td>\n",
       "      <td>1.0</td>\n",
       "      <td>2.00</td>\n",
       "      <td>2.0</td>\n",
       "      <td>3.00</td>\n",
       "      <td>3.0</td>\n",
       "    </tr>\n",
       "    <tr>\n",
       "      <th>status_3_before</th>\n",
       "      <td>8000.0</td>\n",
       "      <td>1.762500</td>\n",
       "      <td>0.620397</td>\n",
       "      <td>1.0</td>\n",
       "      <td>1.00</td>\n",
       "      <td>2.0</td>\n",
       "      <td>2.00</td>\n",
       "      <td>3.0</td>\n",
       "    </tr>\n",
       "    <tr>\n",
       "      <th>view</th>\n",
       "      <td>8000.0</td>\n",
       "      <td>3.615500</td>\n",
       "      <td>0.720052</td>\n",
       "      <td>1.0</td>\n",
       "      <td>3.00</td>\n",
       "      <td>4.0</td>\n",
       "      <td>4.00</td>\n",
       "      <td>5.0</td>\n",
       "    </tr>\n",
       "    <tr>\n",
       "      <th>inc_ability</th>\n",
       "      <td>8000.0</td>\n",
       "      <td>2.301125</td>\n",
       "      <td>0.542204</td>\n",
       "      <td>1.0</td>\n",
       "      <td>2.00</td>\n",
       "      <td>2.0</td>\n",
       "      <td>3.00</td>\n",
       "      <td>4.0</td>\n",
       "    </tr>\n",
       "  </tbody>\n",
       "</table>\n",
       "</div>"
      ],
      "text/plain": [
       "                  count          mean            std     min       25%  \\\n",
       "id               8000.0   4000.500000    2309.545410     1.0   2000.75   \n",
       "happiness        8000.0      3.863625       0.825598     1.0      4.00   \n",
       "survey_type      8000.0      1.405500       0.491019     1.0      1.00   \n",
       "province         8000.0     15.155375       8.917100     1.0      7.00   \n",
       "city             8000.0     42.564750      27.187404     1.0     18.00   \n",
       "county           8000.0     70.619000      38.747503     1.0     37.00   \n",
       "gender           8000.0      1.530000       0.499130     1.0      1.00   \n",
       "birth            8000.0   1964.707625      16.842865  1921.0   1952.00   \n",
       "nationality      8000.0      1.393750       1.462696     1.0      1.00   \n",
       "religion         8000.0      0.893750       0.308177     0.0      1.00   \n",
       "religion_freq    8000.0      1.444125       1.348000     1.0      1.00   \n",
       "edu              8000.0      4.894875       3.118299     1.0      3.00   \n",
       "income           8000.0  34134.324500  232892.209977     0.0   3600.00   \n",
       "political        8000.0      1.363875       0.925244     1.0      1.00   \n",
       "floor_area       8000.0    115.302954      87.275890     3.0     64.00   \n",
       "height_cm        8000.0    163.989750       8.086567   114.0    158.00   \n",
       "weight_jin       8000.0    121.575625      23.189453    40.0    105.00   \n",
       "health           8000.0      3.606000       1.069886     1.0      3.00   \n",
       "health_problem   8000.0      3.850750       1.064244     1.0      3.00   \n",
       "depression       8000.0      3.843375       0.921792     1.0      3.00   \n",
       "hukou            8000.0      1.893750       1.348588     1.0      1.00   \n",
       "socialize        8000.0      2.798875       1.041902     1.0      2.00   \n",
       "relax            8000.0      3.314375       0.942287     1.0      3.00   \n",
       "learn            8000.0      1.952750       1.079311     1.0      1.00   \n",
       "equity           8000.0      3.192875       0.999149     1.0      2.00   \n",
       "class            8000.0      4.323875       1.626979     1.0      3.00   \n",
       "work_exper       8000.0      2.979750       1.752705     1.0      1.00   \n",
       "work_status      8000.0      6.897125       2.901524     1.0      3.00   \n",
       "work_yr          8000.0      5.407250       9.877390     0.0      0.00   \n",
       "work_type        7993.0      1.469161       0.499079     1.0      1.00   \n",
       "work_manage      8000.0      3.591375       0.725925     1.0      3.00   \n",
       "family_income    7999.0  70924.589074  290411.044732     0.0  20000.00   \n",
       "family_m         8000.0      2.896500       1.498439     1.0      2.00   \n",
       "family_status    8000.0      2.659125       0.715013     1.0      2.00   \n",
       "house            8000.0      1.110625       0.673197     0.0      1.00   \n",
       "car              8000.0      1.829625       0.375985     1.0      2.00   \n",
       "marital          8000.0      3.234375       1.423182     1.0      3.00   \n",
       "status_peer      8000.0      2.287375       0.547566     1.0      2.00   \n",
       "status_3_before  8000.0      1.762500       0.620397     1.0      1.00   \n",
       "view             8000.0      3.615500       0.720052     1.0      3.00   \n",
       "inc_ability      8000.0      2.301125       0.542204     1.0      2.00   \n",
       "\n",
       "                     50%       75%        max  \n",
       "id                4000.5   6000.25     8000.0  \n",
       "happiness            4.0      4.00        5.0  \n",
       "survey_type          1.0      2.00        2.0  \n",
       "province            15.0     22.00       31.0  \n",
       "city                42.0     65.00       89.0  \n",
       "county              73.0    104.00      134.0  \n",
       "gender               2.0      2.00        2.0  \n",
       "birth             1965.0   1977.00     1997.0  \n",
       "nationality          1.0      1.00        8.0  \n",
       "religion             1.0      1.00        1.0  \n",
       "religion_freq        1.0      1.00        9.0  \n",
       "edu                  4.0      6.00       14.0  \n",
       "income           15000.0  36000.00  9999990.0  \n",
       "political            1.0      1.00        4.0  \n",
       "floor_area          96.0    130.00     1300.0  \n",
       "height_cm          164.0    170.00      191.0  \n",
       "weight_jin         120.0    135.25      260.0  \n",
       "health               4.0      4.00        5.0  \n",
       "health_problem       4.0      5.00        5.0  \n",
       "depression           4.0      5.00        5.0  \n",
       "hukou                1.0      2.00        8.0  \n",
       "socialize            3.0      4.00        5.0  \n",
       "relax                3.0      4.00        5.0  \n",
       "learn                2.0      3.00        5.0  \n",
       "equity               3.0      4.00        5.0  \n",
       "class                5.0      5.00       10.0  \n",
       "work_exper           3.0      5.00        6.0  \n",
       "work_status          9.0      9.00        9.0  \n",
       "work_yr              0.0      7.00       55.0  \n",
       "work_type            1.0      2.00        2.0  \n",
       "work_manage          4.0      4.00        4.0  \n",
       "family_income    38000.0  70000.00  9999992.0  \n",
       "family_m             3.0      4.00       50.0  \n",
       "family_status        3.0      3.00        5.0  \n",
       "house                1.0      1.00       30.0  \n",
       "car                  2.0      2.00        2.0  \n",
       "marital              3.0      3.00        7.0  \n",
       "status_peer          2.0      3.00        3.0  \n",
       "status_3_before      2.0      2.00        3.0  \n",
       "view                 4.0      4.00        5.0  \n",
       "inc_ability          2.0      3.00        4.0  "
      ]
     },
     "execution_count": 48,
     "metadata": {},
     "output_type": "execute_result"
    }
   ],
   "source": [
    "df_abbr.describe().T"
   ]
  },
  {
   "cell_type": "markdown",
   "metadata": {},
   "source": [
    "# 处理其他异常值，比如-8等小于0的值"
   ]
  },
  {
   "cell_type": "code",
   "execution_count": 41,
   "metadata": {},
   "outputs": [],
   "source": [
    "def hand_other(df):\n",
    "    for c in df.columns:\n",
    "        if -8 in set(df[c]):\n",
    "            df[c][df[c]==-8] = df[c].median()        \n",
    "    return df        "
   ]
  },
  {
   "cell_type": "code",
   "execution_count": null,
   "metadata": {},
   "outputs": [],
   "source": [
    "df_abbr = hand_other(df_abbr)"
   ]
  },
  {
   "cell_type": "code",
   "execution_count": 46,
   "metadata": {},
   "outputs": [
    {
     "data": {
      "text/html": [
       "<div>\n",
       "<style scoped>\n",
       "    .dataframe tbody tr th:only-of-type {\n",
       "        vertical-align: middle;\n",
       "    }\n",
       "\n",
       "    .dataframe tbody tr th {\n",
       "        vertical-align: top;\n",
       "    }\n",
       "\n",
       "    .dataframe thead th {\n",
       "        text-align: right;\n",
       "    }\n",
       "</style>\n",
       "<table border=\"1\" class=\"dataframe\">\n",
       "  <thead>\n",
       "    <tr style=\"text-align: right;\">\n",
       "      <th></th>\n",
       "      <th>count</th>\n",
       "      <th>mean</th>\n",
       "      <th>std</th>\n",
       "      <th>min</th>\n",
       "      <th>25%</th>\n",
       "      <th>50%</th>\n",
       "      <th>75%</th>\n",
       "      <th>max</th>\n",
       "    </tr>\n",
       "  </thead>\n",
       "  <tbody>\n",
       "    <tr>\n",
       "      <th>income</th>\n",
       "      <td>8000.0</td>\n",
       "      <td>33307.342750</td>\n",
       "      <td>232985.314544</td>\n",
       "      <td>-3.0</td>\n",
       "      <td>1695.0</td>\n",
       "      <td>15000.0</td>\n",
       "      <td>36000.0</td>\n",
       "      <td>9999990.0</td>\n",
       "    </tr>\n",
       "    <tr>\n",
       "      <th>work_yr</th>\n",
       "      <td>8000.0</td>\n",
       "      <td>5.374375</td>\n",
       "      <td>9.898445</td>\n",
       "      <td>-3.0</td>\n",
       "      <td>0.0</td>\n",
       "      <td>0.0</td>\n",
       "      <td>7.0</td>\n",
       "      <td>55.0</td>\n",
       "    </tr>\n",
       "    <tr>\n",
       "      <th>family_income</th>\n",
       "      <td>7999.0</td>\n",
       "      <td>67760.502438</td>\n",
       "      <td>290959.100823</td>\n",
       "      <td>-3.0</td>\n",
       "      <td>13000.0</td>\n",
       "      <td>38000.0</td>\n",
       "      <td>70000.0</td>\n",
       "      <td>9999992.0</td>\n",
       "    </tr>\n",
       "    <tr>\n",
       "      <th>family_m</th>\n",
       "      <td>8000.0</td>\n",
       "      <td>2.882500</td>\n",
       "      <td>1.521835</td>\n",
       "      <td>-3.0</td>\n",
       "      <td>2.0</td>\n",
       "      <td>3.0</td>\n",
       "      <td>4.0</td>\n",
       "      <td>50.0</td>\n",
       "    </tr>\n",
       "    <tr>\n",
       "      <th>house</th>\n",
       "      <td>8000.0</td>\n",
       "      <td>1.063625</td>\n",
       "      <td>0.789402</td>\n",
       "      <td>-3.0</td>\n",
       "      <td>1.0</td>\n",
       "      <td>1.0</td>\n",
       "      <td>1.0</td>\n",
       "      <td>30.0</td>\n",
       "    </tr>\n",
       "  </tbody>\n",
       "</table>\n",
       "</div>"
      ],
      "text/plain": [
       "                count          mean            std  min      25%      50%  \\\n",
       "income         8000.0  33307.342750  232985.314544 -3.0   1695.0  15000.0   \n",
       "work_yr        8000.0      5.374375       9.898445 -3.0      0.0      0.0   \n",
       "family_income  7999.0  67760.502438  290959.100823 -3.0  13000.0  38000.0   \n",
       "family_m       8000.0      2.882500       1.521835 -3.0      2.0      3.0   \n",
       "house          8000.0      1.063625       0.789402 -3.0      1.0      1.0   \n",
       "\n",
       "                   75%        max  \n",
       "income         36000.0  9999990.0  \n",
       "work_yr            7.0       55.0  \n",
       "family_income  70000.0  9999992.0  \n",
       "family_m           4.0       50.0  \n",
       "house              1.0       30.0  "
      ]
     },
     "execution_count": 46,
     "metadata": {},
     "output_type": "execute_result"
    }
   ],
   "source": [
    "df_abbr.describe().T[df_abbr.describe().T['min'] < 0]"
   ]
  },
  {
   "cell_type": "code",
   "execution_count": null,
   "metadata": {},
   "outputs": [],
   "source": [
    "df_abbr['income'][df_abbr['income'] < 0] = df_abbr['income'].median()\n",
    "df_abbr['family_income'][df_abbr['family_income'] < 0] = df_abbr['family_income'].median()\n",
    "df_abbr['family_m'][df_abbr['family_m'] < 0] = df_abbr['family_m'].median()\n",
    "df_abbr['house'][df_abbr['house'] < 0] = df_abbr['house'].median()\n",
    "df_abbr['work_yr'][df_abbr['work_yr'] < 0] = df_abbr['work_yr'].median()\n",
    "\n",
    "df_abbr['family_income'].fillna(df_abbr['family_income'].median(), inplace=True)"
   ]
  },
  {
   "cell_type": "code",
   "execution_count": 53,
   "metadata": {},
   "outputs": [],
   "source": [
    "df_abbr_copy = df_abbr.copy(deep=True)"
   ]
  },
  {
   "cell_type": "code",
   "execution_count": 55,
   "metadata": {},
   "outputs": [],
   "source": [
    "train_y = df_abbr_copy.pop('happiness')"
   ]
  },
  {
   "cell_type": "code",
   "execution_count": 57,
   "metadata": {},
   "outputs": [],
   "source": [
    "train_X = df_abbr_copy"
   ]
  },
  {
   "cell_type": "markdown",
   "metadata": {},
   "source": [
    "## 正则化 / 标准化"
   ]
  },
  {
   "cell_type": "code",
   "execution_count": 106,
   "metadata": {},
   "outputs": [],
   "source": [
    "from sklearn.preprocessing import Normalizer"
   ]
  },
  {
   "cell_type": "code",
   "execution_count": 107,
   "metadata": {},
   "outputs": [],
   "source": [
    "norm = Normalizer()\n",
    "train_X = norm.fit_transform(train_X)"
   ]
  },
  {
   "cell_type": "markdown",
   "metadata": {},
   "source": [
    "## 降维"
   ]
  },
  {
   "cell_type": "code",
   "execution_count": 79,
   "metadata": {},
   "outputs": [
    {
     "data": {
      "text/plain": [
       "Index(['id', 'survey_type', 'province', 'city', 'county', 'gender', 'birth',\n",
       "       'nationality', 'religion', 'religion_freq', 'edu', 'income',\n",
       "       'political', 'floor_area', 'height_cm', 'weight_jin', 'health',\n",
       "       'health_problem', 'depression', 'hukou', 'socialize', 'relax', 'learn',\n",
       "       'equity', 'class', 'work_exper', 'work_status', 'work_yr', 'work_type',\n",
       "       'work_manage', 'family_income', 'family_m', 'family_status', 'house',\n",
       "       'car', 'marital', 'status_peer', 'status_3_before', 'view',\n",
       "       'inc_ability'],\n",
       "      dtype='object')"
      ]
     },
     "execution_count": 79,
     "metadata": {},
     "output_type": "execute_result"
    }
   ],
   "source": [
    "train_X.columns"
   ]
  },
  {
   "cell_type": "code",
   "execution_count": null,
   "metadata": {},
   "outputs": [],
   "source": [
    "train_X.pop('survey_time')\n",
    "\n",
    "train_X.pop('id')\n",
    "\n",
    "from sklearn.decomposition import PCA\n",
    "\n",
    "pca = PCA(n_components='mle', svd_solver='full', random_state=0)\n",
    "\n",
    "train_X = pca.fit_transform(train_X)"
   ]
  },
  {
   "cell_type": "markdown",
   "metadata": {},
   "source": [
    "## 模型建立"
   ]
  },
  {
   "cell_type": "code",
   "execution_count": 61,
   "metadata": {},
   "outputs": [],
   "source": [
    "# 随机森林\n",
    "from sklearn.ensemble import RandomForestClassifier"
   ]
  },
  {
   "cell_type": "code",
   "execution_count": 63,
   "metadata": {},
   "outputs": [],
   "source": [
    "# 交叉验证\n",
    "from sklearn.model_selection import StratifiedKFold, cross_validate"
   ]
  },
  {
   "cell_type": "code",
   "execution_count": 611,
   "metadata": {},
   "outputs": [
    {
     "name": "stdout",
     "output_type": "stream",
     "text": [
      "{'fit_time': array([0.06395984, 0.06595802, 0.05296588, 0.0439744 , 0.04697084,\n",
      "       0.05196953, 0.04497194, 0.04697061, 0.04896903, 0.04896927]), 'score_time': array([0.00399899, 0.00199962, 0.00199842, 0.00099969, 0.00299668,\n",
      "       0.00199914, 0.00199866, 0.00199914, 0.0019989 , 0.00099945]), 'test_score': array([0.44278607, 0.45605307, 0.41528239, 0.45590682, 0.43094842,\n",
      "       0.42928453, 0.465     , 0.45409015, 0.44240401, 0.42976589]), 'train_score': array([0.88064397, 0.88490007, 0.88214616, 0.87439882, 0.87754347,\n",
      "       0.87828339, 0.87349732, 0.8783284 , 0.8766642 , 0.88352745])}\n"
     ]
    },
    {
     "data": {
      "text/plain": [
       "RandomForestClassifier(bootstrap=True, class_weight=None, criterion='gini',\n",
       "                       max_depth=None, max_features='auto', max_leaf_nodes=None,\n",
       "                       min_impurity_decrease=0.0, min_impurity_split=None,\n",
       "                       min_samples_leaf=1, min_samples_split=2,\n",
       "                       min_weight_fraction_leaf=0.0001, n_estimators=3,\n",
       "                       n_jobs=None, oob_score=False, random_state=0, verbose=0,\n",
       "                       warm_start=False)"
      ]
     },
     "execution_count": 611,
     "metadata": {},
     "output_type": "execute_result"
    }
   ],
   "source": [
    "# 创建随机森林模型\n",
    "#model = RandomForestClassifier(n_estimators=30, criterion='gini', max_depth=1, \n",
    "#                             min_samples_split=18, min_samples_leaf=10, max_features=5, random_state=0)\n",
    "#\n",
    "model = RandomForestClassifier(n_estimators=4, random_state=0, min_weight_fraction_leaf=0.0001, bootstrap=True, )\n",
    "skf = StratifiedKFold(n_splits=10, shuffle=True, random_state=0)\n",
    "\n",
    "cv_results = cross_validate(estimator=model, X=train_X, y=train_y, cv=skf, scoring=('accuracy'), return_train_score=True)\n",
    "print(cv_results)\n",
    "model.fit(train_X, train_y)"
   ]
  },
  {
   "cell_type": "code",
   "execution_count": 612,
   "metadata": {},
   "outputs": [
    {
     "data": {
      "text/plain": [
       "3    1467\n",
       "1     590\n",
       "4     441\n",
       "2     361\n",
       "0     109\n",
       "dtype: int64"
      ]
     },
     "execution_count": 612,
     "metadata": {},
     "output_type": "execute_result"
    }
   ],
   "source": [
    "labels = model.predict(test_X)\n",
    "pd.Series(labels).value_counts()"
   ]
  },
  {
   "cell_type": "code",
   "execution_count": 568,
   "metadata": {},
   "outputs": [
    {
     "data": {
      "text/plain": [
       "3    3699\n",
       "4    1056\n",
       "2     842\n",
       "1     343\n",
       "0      67\n",
       "dtype: int64"
      ]
     },
     "execution_count": 568,
     "metadata": {},
     "output_type": "execute_result"
    }
   ],
   "source": [
    "pd.Series(train_y).value_counts()"
   ]
  },
  {
   "cell_type": "code",
   "execution_count": 607,
   "metadata": {},
   "outputs": [],
   "source": [
    "df_abbr_test['predict'] = pd.Series(labels).map({0:1, 1:2, 2:3, 3:4, 4:5})"
   ]
  },
  {
   "cell_type": "code",
   "execution_count": 608,
   "metadata": {},
   "outputs": [
    {
     "name": "stderr",
     "output_type": "stream",
     "text": [
      "C:\\Users\\Dengkj\\Anaconda3\\lib\\site-packages\\ipykernel_launcher.py:1: FutureWarning: The signature of `Series.to_csv` was aligned to that of `DataFrame.to_csv`, and argument 'header' will change its default value from False to True: please pass an explicit value to suppress this warning.\n",
      "  \"\"\"Entry point for launching an IPython kernel.\n"
     ]
    }
   ],
   "source": [
    "df_abbr_test['predict'].to_csv('d:\\dump\\happiness_predict.csv')"
   ]
  },
  {
   "cell_type": "code",
   "execution_count": null,
   "metadata": {},
   "outputs": [],
   "source": [
    "import matplotlib.pyplot as plt\n",
    "\n",
    "from collections import OrderedDict\n",
    "\n",
    "ensemble_clfs = [\n",
    "    (\"RandomForestClassifier, max_features='sqrt'\",\n",
    "        RandomForestClassifier(n_estimators=100,\n",
    "                               warm_start=True, oob_score=True,\n",
    "                               max_features=\"sqrt\",\n",
    "                               random_state=0)),\n",
    "    (\"RandomForestClassifier, max_features='log2'\",\n",
    "        RandomForestClassifier(n_estimators=100,\n",
    "                               warm_start=True, max_features='log2',\n",
    "                               oob_score=True,\n",
    "                               random_state=0)),\n",
    "    (\"RandomForestClassifier, max_features=None\",\n",
    "        RandomForestClassifier(n_estimators=100,\n",
    "                               warm_start=True, max_features=None,\n",
    "                               oob_score=True,\n",
    "                               random_state=0))\n",
    "]\n",
    "\n",
    "# Map a classifier name to a list of (<n_estimators>, <error rate>) pairs.\n",
    "error_rate = OrderedDict((label, []) for label, _ in ensemble_clfs)\n",
    "\n",
    "# Range of `n_estimators` values to explore.\n",
    "min_estimators = 15\n",
    "max_estimators = 175\n",
    "\n",
    "for label, clf in ensemble_clfs:\n",
    "    for i in range(min_estimators, max_estimators + 1):\n",
    "        clf.set_params(n_estimators=i)\n",
    "        clf.fit(train_X, train_y)\n",
    "\n",
    "        # Record the OOB error for each `n_estimators=i` setting.\n",
    "        oob_error = 1 - clf.oob_score_\n",
    "        error_rate[label].append((i, oob_error))\n",
    "\n",
    "# Generate the \"OOB error rate\" vs. \"n_estimators\" plot.\n",
    "for label, clf_err in error_rate.items():\n",
    "    xs, ys = zip(*clf_err)\n",
    "    plt.plot(xs, ys, label=label)\n",
    "\n",
    "#plt.figure(figsize=(10, 8))\n",
    "plt.xlim(min_estimators, max_estimators)\n",
    "plt.xlabel(\"n_estimators\")\n",
    "plt.ylabel(\"OOB error rate\")\n",
    "plt.legend(loc=\"upper right\")\n",
    "plt.show()"
   ]
  },
  {
   "cell_type": "code",
   "execution_count": 141,
   "metadata": {},
   "outputs": [],
   "source": [
    "df_abbr_test['happiness2'] = model.predict(test_X)"
   ]
  },
  {
   "cell_type": "code",
   "execution_count": 142,
   "metadata": {},
   "outputs": [],
   "source": [
    "df_abbr_test.to_csv('predict2.csv')"
   ]
  },
  {
   "cell_type": "markdown",
   "metadata": {},
   "source": [
    "## 采用神经网络模型"
   ]
  },
  {
   "cell_type": "code",
   "execution_count": 54,
   "metadata": {},
   "outputs": [],
   "source": [
    "from tensorflow.keras import Sequential, layers, models, regularizers"
   ]
  },
  {
   "cell_type": "code",
   "execution_count": 380,
   "metadata": {},
   "outputs": [],
   "source": [
    "def model_d(input_dim=36, l2=0.01, l1=0.01, output=5):\n",
    "    model = Sequential()\n",
    "    model.add(layers.Dense(128, activation='relu', input_dim=input_dim, \n",
    "                           kernel_regularizer=regularizers.l2(l2), \n",
    "                           activity_regularizer=regularizers.l1(l1)))\n",
    "    model.add(layers.Dropout(0.2))\n",
    "    model.add(layers.Dense(128, activation='relu', \n",
    "                           kernel_regularizer=regularizers.l2(l2), \n",
    "                           activity_regularizer=regularizers.l1(l1)))\n",
    "    model.add(layers.Dropout(0.2))\n",
    "    model.add(layers.Dense(128, activation='relu', \n",
    "                           kernel_regularizer=regularizers.l2(l2), \n",
    "                           activity_regularizer=regularizers.l1(l1)))\n",
    "    model.add(layers.Dropout(0.2))\n",
    "    model.add(layers.Dense(128, activation='relu', \n",
    "                           kernel_regularizer=regularizers.l2(l2), \n",
    "                           activity_regularizer=regularizers.l1(l1)))\n",
    "    model.add(layers.Dropout(0.2))\n",
    "    model.add(layers.Dense(5, activation='softmax'))\n",
    "    \n",
    "    return model"
   ]
  },
  {
   "cell_type": "code",
   "execution_count": 381,
   "metadata": {},
   "outputs": [],
   "source": [
    "model = model_d(input_dim=36, l2=0.001, l1=0.001, output=5)"
   ]
  },
  {
   "cell_type": "code",
   "execution_count": 385,
   "metadata": {},
   "outputs": [
    {
     "name": "stdout",
     "output_type": "stream",
     "text": [
      "WARNING:tensorflow:Falling back from v2 loop because of error: Failed to find data adapter that can handle input: <class 'pandas.core.frame.DataFrame'>, <class 'NoneType'>\n"
     ]
    },
    {
     "name": "stderr",
     "output_type": "stream",
     "text": [
      "WARNING:tensorflow:Falling back from v2 loop because of error: Failed to find data adapter that can handle input: <class 'pandas.core.frame.DataFrame'>, <class 'NoneType'>\n"
     ]
    },
    {
     "name": "stdout",
     "output_type": "stream",
     "text": [
      "Train on 4204 samples, validate on 1803 samples\n",
      "Epoch 1/15\n",
      "4204/4204 [==============================] - 1s 211us/sample - loss: 1.9743 - accuracy: 0.6192 - val_loss: 1.5967 - val_accuracy: 0.6079\n",
      "Epoch 2/15\n",
      "4204/4204 [==============================] - 0s 88us/sample - loss: 1.4617 - accuracy: 0.6192 - val_loss: 1.3614 - val_accuracy: 0.6079\n",
      "Epoch 3/15\n",
      "4204/4204 [==============================] - 0s 83us/sample - loss: 1.1925 - accuracy: 0.6192 - val_loss: 1.2136 - val_accuracy: 0.6079\n",
      "Epoch 4/15\n",
      "4204/4204 [==============================] - 0s 83us/sample - loss: 1.1332 - accuracy: 0.6192 - val_loss: 1.1429 - val_accuracy: 0.6079\n",
      "Epoch 5/15\n",
      "4204/4204 [==============================] - 0s 84us/sample - loss: 1.1060 - accuracy: 0.6192 - val_loss: 1.1412 - val_accuracy: 0.6079\n",
      "Epoch 6/15\n",
      "4204/4204 [==============================] - 0s 85us/sample - loss: 1.1022 - accuracy: 0.6192 - val_loss: 1.1400 - val_accuracy: 0.6079\n",
      "Epoch 7/15\n",
      "4204/4204 [==============================] - 0s 84us/sample - loss: 1.1006 - accuracy: 0.6192 - val_loss: 1.1395 - val_accuracy: 0.6079\n",
      "Epoch 8/15\n",
      "4204/4204 [==============================] - 0s 85us/sample - loss: 1.0970 - accuracy: 0.6192 - val_loss: 1.1396 - val_accuracy: 0.6079\n",
      "Epoch 9/15\n",
      "4204/4204 [==============================] - 0s 84us/sample - loss: 1.0998 - accuracy: 0.6192 - val_loss: 1.1362 - val_accuracy: 0.6079\n",
      "Epoch 10/15\n",
      "4204/4204 [==============================] - 0s 87us/sample - loss: 1.0990 - accuracy: 0.6192 - val_loss: 1.1380 - val_accuracy: 0.6079\n",
      "Epoch 11/15\n",
      "4204/4204 [==============================] - 0s 85us/sample - loss: 1.0972 - accuracy: 0.6192 - val_loss: 1.1383 - val_accuracy: 0.6079\n",
      "Epoch 12/15\n",
      "4204/4204 [==============================] - 0s 86us/sample - loss: 1.0960 - accuracy: 0.6192 - val_loss: 1.1372 - val_accuracy: 0.6079\n",
      "Epoch 13/15\n",
      "4204/4204 [==============================] - 0s 87us/sample - loss: 1.0961 - accuracy: 0.6192 - val_loss: 1.1340 - val_accuracy: 0.6079\n",
      "Epoch 14/15\n",
      "4204/4204 [==============================] - 0s 84us/sample - loss: 1.0953 - accuracy: 0.6192 - val_loss: 1.1341 - val_accuracy: 0.6079\n",
      "Epoch 15/15\n",
      "4204/4204 [==============================] - 0s 86us/sample - loss: 1.0938 - accuracy: 0.6192 - val_loss: 1.1377 - val_accuracy: 0.6079\n"
     ]
    },
    {
     "data": {
      "text/plain": [
       "<matplotlib.legend.Legend at 0x1c0c8f30f60>"
      ]
     },
     "execution_count": 385,
     "metadata": {},
     "output_type": "execute_result"
    },
    {
     "data": {
      "image/png": "[encoded data removed]",
      "text/plain": [
       "<Figure size 504x504 with 2 Axes>"
      ]
     },
     "metadata": {
      "needs_background": "light"
     },
     "output_type": "display_data"
    }
   ],
   "source": [
    "model.compile(optimizer='adam',\n",
    "             loss='sparse_categorical_crossentropy',\n",
    "             metrics=['accuracy'])\n",
    "history = model.fit(train_X, train_y, batch_size=100, epochs=15, validation_split=0.3)\n",
    "\n",
    "\n",
    "plt.figure(figsize=(7, 7))\n",
    "\n",
    "plt.subplot(2, 1, 1)\n",
    "plt.plot(history.epoch, history.history['accuracy'])\n",
    "plt.plot(history.epoch, history.history['val_accuracy'])\n",
    "plt.legend(['accuracy','val_accuracy','loss','va_loss'])\n",
    "\n",
    "plt.subplot(2, 1, 2)\n",
    "plt.plot(history.epoch, history.history['loss'])\n",
    "plt.plot(history.epoch, history.history['val_loss'])\n",
    "\n",
    "plt.legend(['loss','va_loss'])"
   ]
  },
  {
   "cell_type": "code",
   "execution_count": 386,
   "metadata": {},
   "outputs": [
    {
     "data": {
      "text/plain": [
       "3    2968\n",
       "dtype: int64"
      ]
     },
     "execution_count": 386,
     "metadata": {},
     "output_type": "execute_result"
    }
   ],
   "source": [
    "pd.Series(model.predict_classes(test_X)).value_counts()"
   ]
  },
  {
   "cell_type": "code",
   "execution_count": 65,
   "metadata": {},
   "outputs": [],
   "source": [
    "from tensorflow.keras.utils import to_categorical\n",
    "train_y = to_categorical(train_y)"
   ]
  },
  {
   "cell_type": "code",
   "execution_count": 126,
   "metadata": {},
   "outputs": [
    {
     "name": "stdout",
     "output_type": "stream",
     "text": [
      "WARNING:tensorflow:Falling back from v2 loop because of error: Failed to find data adapter that can handle input: <class 'pandas.core.frame.DataFrame'>, <class 'NoneType'>\n"
     ]
    },
    {
     "data": {
      "text/plain": [
       "0    8000\n",
       "dtype: int64"
      ]
     },
     "execution_count": 126,
     "metadata": {},
     "output_type": "execute_result"
    }
   ],
   "source": [
    "labels = model.predict_classes(train_X)\n",
    "pd.Series(labels).value_counts()"
   ]
  },
  {
   "cell_type": "code",
   "execution_count": null,
   "metadata": {},
   "outputs": [],
   "source": []
  },
  {
   "cell_type": "markdown",
   "metadata": {},
   "source": [
    "## 重构随机森林"
   ]
  },
  {
   "cell_type": "code",
   "execution_count": 21,
   "metadata": {},
   "outputs": [
    {
     "data": {
      "text/plain": [
       "0.601623907145555"
      ]
     },
     "execution_count": 21,
     "metadata": {},
     "output_type": "execute_result"
    }
   ],
   "source": [
    "rfc = RandomForestClassifier(n_estimators=100, random_state=90)\n",
    "score_pre = cross_val_score(rfc, train_X, train_y, cv=10).mean()\n",
    "score_pre"
   ]
  },
  {
   "cell_type": "code",
   "execution_count": null,
   "metadata": {},
   "outputs": [],
   "source": [
    "model = RandomForestClassifier(n_estimators=15, random_state=0)\n",
    "skf = StratifiedKFold(n_splits=10, shuffle=True, random_state=0)\n",
    "\n",
    "cv_results = cross_validate(estimator=model, X=train_X, y=train_y, cv=skf, scoring=('accuracy'), return_train_score=True)\n",
    "cv_results"
   ]
  },
  {
   "cell_type": "code",
   "execution_count": 110,
   "metadata": {},
   "outputs": [
    {
     "data": {
      "image/png": "[encoded data removed]",
      "text/plain": [
       "<Figure size 1080x360 with 1 Axes>"
      ]
     },
     "metadata": {
      "needs_background": "light"
     },
     "output_type": "display_data"
    }
   ],
   "source": [
    "train_scores = []\n",
    "test_scores = []\n",
    "for e in range(1, 40, 1):\n",
    "    rfc = RandomForestClassifier(n_estimators = e, random_state=0)\n",
    "    skf = StratifiedKFold(n_splits=10, shuffle=True, random_state=0)\n",
    "    cv_results = cross_validate(estimator=rfc, X=train_X, y=train_y, cv=skf, scoring=('accuracy'), return_train_score=True)\n",
    "    \n",
    "    train_scores.append(cv_results['train_score'].mean())\n",
    "    test_scores.append(cv_results['test_score'].mean())\n",
    "    \n",
    "#print(max(scores), (scores.index(max(scores))*10+1))\n",
    "plt.figure(figsize=[15, 5])\n",
    "plt.plot(range(1, 40, 1), train_scores)\n",
    "plt.legend('train_scores')\n",
    "plt.plot(range(1, 40, 1), test_scores)\n",
    "plt.legend('test_scores')\n",
    "plt.show()"
   ]
  },
  {
   "cell_type": "code",
   "execution_count": 106,
   "metadata": {},
   "outputs": [
    {
     "name": "stdout",
     "output_type": "stream",
     "text": [
      "0.598499843083049 30\n"
     ]
    },
    {
     "data": {
      "image/png": "[encoded data removed]",
      "text/plain": [
       "<Figure size 1440x360 with 1 Axes>"
      ]
     },
     "metadata": {
      "needs_background": "light"
     },
     "output_type": "display_data"
    }
   ],
   "source": [
    "scores = []\n",
    "for e in range(25,35):\n",
    "    rfc = RandomForestClassifier(n_estimators = e+1, random_state=0)\n",
    "    score = cross_val_score(rfc, train_X, train_y, cv=10).mean()\n",
    "    scores.append(score)\n",
    "    \n",
    "print(max(scores), ([*range(25, 35)][scores.index(max(scores))]))\n",
    "plt.figure(figsize=[20, 5])\n",
    "plt.plot(range(25, 35), scores)\n",
    "plt.show()"
   ]
  },
  {
   "cell_type": "code",
   "execution_count": 23,
   "metadata": {},
   "outputs": [
    {
     "name": "stdout",
     "output_type": "stream",
     "text": [
      "0.598499843083049 30\n"
     ]
    },
    {
     "data": {
      "image/png": "[encoded data removed]",
      "text/plain": [
       "<Figure size 1440x360 with 1 Axes>"
      ]
     },
     "metadata": {
      "needs_background": "light"
     },
     "output_type": "display_data"
    }
   ],
   "source": [
    "print(max(scores), ([*range(25, 35)][scores.index(max(scores))]))\n",
    "plt.figure(figsize=[20, 5])\n",
    "plt.plot(range(25, 35), scores)\n",
    "plt.show()"
   ]
  },
  {
   "cell_type": "code",
   "execution_count": 25,
   "metadata": {},
   "outputs": [
    {
     "data": {
      "text/plain": [
       "{'max_depth': 1}"
      ]
     },
     "execution_count": 25,
     "metadata": {},
     "output_type": "execute_result"
    }
   ],
   "source": [
    "param_grid = {'max_depth' : np.arange(1, 20, 1)}\n",
    "rfc = RandomForestClassifier(n_estimators=30, random_state=0)\n",
    "GS = GridSearchCV(rfc, param_grid=param_grid, cv=10)\n",
    "GS.fit(train_X, train_y)\n",
    "GS.best_params_"
   ]
  },
  {
   "cell_type": "code",
   "execution_count": 26,
   "metadata": {},
   "outputs": [
    {
     "data": {
      "text/plain": [
       "0.60375"
      ]
     },
     "execution_count": 26,
     "metadata": {},
     "output_type": "execute_result"
    }
   ],
   "source": [
    "GS.best_score_"
   ]
  },
  {
   "cell_type": "code",
   "execution_count": 27,
   "metadata": {},
   "outputs": [
    {
     "data": {
      "text/plain": [
       "{'max_features': 5}"
      ]
     },
     "execution_count": 27,
     "metadata": {},
     "output_type": "execute_result"
    }
   ],
   "source": [
    "param_grid = {'max_features' : np.arange(5, 30, 1)}\n",
    "rfc = RandomForestClassifier(n_estimators=30, random_state=0)\n",
    "GS = GridSearchCV(rfc, param_grid=param_grid, cv=10)\n",
    "GS.fit(train_X, train_y)\n",
    "GS.best_params_"
   ]
  },
  {
   "cell_type": "code",
   "execution_count": 28,
   "metadata": {},
   "outputs": [
    {
     "data": {
      "text/plain": [
       "{'min_samples_leaf': 10}"
      ]
     },
     "execution_count": 28,
     "metadata": {},
     "output_type": "execute_result"
    }
   ],
   "source": [
    "param_grid = {'min_samples_leaf' : np.arange(1, 1+10, 1)}\n",
    "rfc = RandomForestClassifier(n_estimators=30, random_state=0)\n",
    "GS = GridSearchCV(rfc, param_grid=param_grid, cv=10)\n",
    "GS.fit(train_X, train_y)\n",
    "GS.best_params_"
   ]
  },
  {
   "cell_type": "code",
   "execution_count": 29,
   "metadata": {},
   "outputs": [
    {
     "data": {
      "text/plain": [
       "{'min_samples_split': 18}"
      ]
     },
     "execution_count": 29,
     "metadata": {},
     "output_type": "execute_result"
    }
   ],
   "source": [
    "param_grid = {'min_samples_split' : np.arange(2, 2+20, 1)}\n",
    "rfc = RandomForestClassifier(n_estimators=30, random_state=0)\n",
    "GS = GridSearchCV(rfc, param_grid=param_grid, cv=10)\n",
    "GS.fit(train_X, train_y)\n",
    "GS.best_params_"
   ]
  },
  {
   "cell_type": "code",
   "execution_count": 30,
   "metadata": {},
   "outputs": [
    {
     "data": {
      "text/plain": [
       "{'criterion': 'entropy'}"
      ]
     },
     "execution_count": 30,
     "metadata": {},
     "output_type": "execute_result"
    }
   ],
   "source": [
    "param_grid = {'criterion' : ['gini', 'entropy']}\n",
    "rfc = RandomForestClassifier(n_estimators=30, random_state=0)\n",
    "GS = GridSearchCV(rfc, param_grid=param_grid, cv=10)\n",
    "GS.fit(train_X, train_y)\n",
    "GS.best_params_"
   ]
  },
  {
   "cell_type": "code",
   "execution_count": 32,
   "metadata": {},
   "outputs": [
    {
     "data": {
      "text/plain": [
       "0.603750944070143"
      ]
     },
     "execution_count": 32,
     "metadata": {},
     "output_type": "execute_result"
    }
   ],
   "source": [
    "rfc = RandomForestClassifier(n_estimators=30, criterion='gini', max_depth=1, \n",
    "                             min_samples_split=18, min_samples_leaf=10, max_features=5, random_state=0)\n",
    "score_pre = cross_val_score(rfc, train_X, train_y, cv=10).mean()\n",
    "score_pre"
   ]
  },
  {
   "cell_type": "code",
   "execution_count": 46,
   "metadata": {},
   "outputs": [],
   "source": [
    "import seaborn as sns"
   ]
  },
  {
   "cell_type": "code",
   "execution_count": 55,
   "metadata": {},
   "outputs": [
    {
     "data": {
      "text/plain": [
       "Index(['id', 'happiness', 'survey_type', 'province', 'city', 'county',\n",
       "       'survey_time', 'gender', 'birth', 'nationality', 'religion',\n",
       "       'religion_freq', 'edu', 'income', 'political', 'floor_area',\n",
       "       'height_cm', 'weight_jin', 'health', 'health_problem', 'depression',\n",
       "       'hukou', 'socialize', 'relax', 'learn', 'equity', 'class', 'work_exper',\n",
       "       'work_status', 'work_yr', 'work_type', 'work_manage', 'family_income',\n",
       "       'family_m', 'family_status', 'house', 'car', 'marital', 'status_peer',\n",
       "       'status_3_before', 'view', 'inc_ability'],\n",
       "      dtype='object')"
      ]
     },
     "execution_count": 55,
     "metadata": {},
     "output_type": "execute_result"
    }
   ],
   "source": [
    "df_abbr.columns"
   ]
  },
  {
   "cell_type": "code",
   "execution_count": 62,
   "metadata": {},
   "outputs": [
    {
     "data": {
      "text/plain": [
       "<matplotlib.axes._subplots.AxesSubplot at 0x7f94cea6fb70>"
      ]
     },
     "execution_count": 62,
     "metadata": {},
     "output_type": "execute_result"
    },
    {
     "data": {
      "image/png": "[encoded data removed]",
      "text/plain": [
       "<Figure size 864x576 with 2 Axes>"
      ]
     },
     "metadata": {
      "needs_background": "light"
     },
     "output_type": "display_data"
    }
   ],
   "source": [
    "plt.figure(figsize=(12,8))\n",
    "sns.heatmap(df_abbr.corr(), cmap=plt.cm.hsv)"
   ]
  },
  {
   "cell_type": "code",
   "execution_count": 114,
   "metadata": {},
   "outputs": [
    {
     "data": {
      "text/plain": [
       "(6007, 36)"
      ]
     },
     "execution_count": 114,
     "metadata": {},
     "output_type": "execute_result"
    }
   ],
   "source": [
    "df_abbr.shape"
   ]
  },
  {
   "cell_type": "code",
   "execution_count": 460,
   "metadata": {},
   "outputs": [],
   "source": [
    "test_X = df_abbr_test[df_abbr.columns].copy()"
   ]
  },
  {
   "cell_type": "code",
   "execution_count": 461,
   "metadata": {},
   "outputs": [],
   "source": [
    "test_X = np.array(test_X)"
   ]
  },
  {
   "cell_type": "code",
   "execution_count": 7,
   "metadata": {},
   "outputs": [],
   "source": [
    "df_abbr.dropna(subset=['family_income'], inplace=True)"
   ]
  },
  {
   "cell_type": "code",
   "execution_count": 17,
   "metadata": {},
   "outputs": [],
   "source": [
    "df_abbr.dropna(axis=1, inplace=True)"
   ]
  },
  {
   "cell_type": "code",
   "execution_count": 25,
   "metadata": {},
   "outputs": [],
   "source": [
    "df_abbr.dropna(inplace=True)"
   ]
  },
  {
   "cell_type": "code",
   "execution_count": 24,
   "metadata": {},
   "outputs": [],
   "source": [
    "df_abbr[df_abbr<0] = np.nan"
   ]
  },
  {
   "cell_type": "code",
   "execution_count": 27,
   "metadata": {},
   "outputs": [],
   "source": [
    "train_y = df_abbr.pop('happiness')"
   ]
  },
  {
   "cell_type": "code",
   "execution_count": 32,
   "metadata": {},
   "outputs": [],
   "source": [
    "train_y = train_y.map({1:0, 2:1, 3:2, 4:3, 5:4})"
   ]
  },
  {
   "cell_type": "code",
   "execution_count": 33,
   "metadata": {},
   "outputs": [],
   "source": [
    "train_y = np.array(train_y)"
   ]
  },
  {
   "cell_type": "code",
   "execution_count": 462,
   "metadata": {},
   "outputs": [],
   "source": [
    "train_X = df_abbr.copy()"
   ]
  },
  {
   "cell_type": "code",
   "execution_count": 287,
   "metadata": {},
   "outputs": [],
   "source": [
    "norm = Normalizer()"
   ]
  },
  {
   "cell_type": "code",
   "execution_count": 463,
   "metadata": {},
   "outputs": [],
   "source": [
    "train_X = norm.fit_transform(train_X)"
   ]
  },
  {
   "cell_type": "code",
   "execution_count": 464,
   "metadata": {},
   "outputs": [],
   "source": [
    "pca = PCA(n_components=4, tol=0.01)"
   ]
  },
  {
   "cell_type": "code",
   "execution_count": 465,
   "metadata": {},
   "outputs": [],
   "source": [
    "train_X = pca.fit_transform(train_X)"
   ]
  },
  {
   "cell_type": "code",
   "execution_count": 466,
   "metadata": {},
   "outputs": [],
   "source": [
    "test_X = norm.fit_transform(test_X)"
   ]
  },
  {
   "cell_type": "code",
   "execution_count": 467,
   "metadata": {},
   "outputs": [],
   "source": [
    "test_X = pca.fit_transform(test_X)"
   ]
  },
  {
   "cell_type": "markdown",
   "metadata": {},
   "source": [
    "## SVM模型"
   ]
  },
  {
   "cell_type": "code",
   "execution_count": 274,
   "metadata": {},
   "outputs": [],
   "source": [
    "from sklearn.svm import SVC"
   ]
  },
  {
   "cell_type": "code",
   "execution_count": 332,
   "metadata": {},
   "outputs": [
    {
     "name": "stdout",
     "output_type": "stream",
     "text": [
      "0.6157815881471617\n"
     ]
    },
    {
     "data": {
      "text/plain": [
       "3    2968\n",
       "dtype: int64"
      ]
     },
     "execution_count": 332,
     "metadata": {},
     "output_type": "execute_result"
    }
   ],
   "source": [
    "svc = SVC(C=0.0001, gamma=8.0, tol=0.001, kernel='rbf', coef0=0.0, degree=3, class_weight='balanced')\n",
    "svc.fit(train_X, train_y)\n",
    "print(svc.score(train_X, train_y))\n",
    "pd.Series(svc.predict(test_X)).value_counts()"
   ]
  }
 ],
 "metadata": {
  "kernelspec": {
   "display_name": "Python 3",
   "language": "python",
   "name": "python3"
  },
  "language_info": {
   "codemirror_mode": {
    "name": "ipython",
    "version": 3
   },
   "file_extension": ".py",
   "mimetype": "text/x-python",
   "name": "python",
   "nbconvert_exporter": "python",
   "pygments_lexer": "ipython3",
   "version": "3.7.3"
  }
 },
 "nbformat": 4,
 "nbformat_minor": 4
}
